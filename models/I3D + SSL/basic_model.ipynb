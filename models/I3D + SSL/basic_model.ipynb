{
 "cells": [
  {
   "cell_type": "code",
   "execution_count": 1,
   "metadata": {},
   "outputs": [],
   "source": [
    "import torch\n",
    "import torch.nn as nn\n",
    "from tqdm import tqdm\n",
    "import random \n",
    "random_seed = 123  \n",
    "random.seed(random_seed)\n",
    "from sklearn.metrics import f1_score\n",
    "from datasetSSL import VideoDatasetSSL\n",
    "from utils import *\n",
    "from models.pytorch_i3d import InceptionI3d\n",
    "from opts import *\n",
    "#from mmcv.runner import freeze_stages\n"
   ]
  },
  {
   "cell_type": "code",
   "execution_count": 2,
   "metadata": {},
   "outputs": [
    {
     "name": "stdout",
     "output_type": "stream",
     "text": [
      "Using device: cuda\n"
     ]
    }
   ],
   "source": [
    "device = torch.device('cuda' if torch.cuda.is_available() else 'cpu')\n",
    "print('Using device:', device)\n",
    "torch.cuda.empty_cache()\n",
    "train_batch_size = 6\n",
    "num_workers = 8\n",
    "#save_model = 'ssl_ohp_1_aug'\n",
    "save_model = 'ssl_squat'"
   ]
  },
  {
   "attachments": {},
   "cell_type": "markdown",
   "metadata": {},
   "source": [
    "# SSL"
   ]
  },
  {
   "cell_type": "code",
   "execution_count": 3,
   "metadata": {},
   "outputs": [],
   "source": [
    "input_path = \"./FAQA/OHP/Unlabeled/\"\n",
    "dataloaders = {}\n",
    "dataloaders['train'] = torch.utils.data.DataLoader(VideoDatasetSSL(input_path, 5970),\n",
    "                                                    batch_size=train_batch_size,\n",
    "                                                    num_workers=num_workers,\n",
    "                                                    shuffle=True,\n",
    "                                                    pin_memory=True,\n",
    "                                                    worker_init_fn=worker_init_fn)"
   ]
  },
  {
   "cell_type": "code",
   "execution_count": 4,
   "metadata": {},
   "outputs": [],
   "source": [
    "class MotionDisentangling(torch.nn.Module):\n",
    "    def __init__(self, f=1024):\n",
    "        super().__init__()\n",
    "        self.backbone = InceptionI3d()\n",
    "        self.backbone.load_state_dict(torch.load(i3d_pretrained_path))\n",
    "        \n",
    "        self.head = torch.nn.Sequential(\n",
    "            torch.nn.Linear(f, 512),\n",
    "            torch.nn.ReLU(),\n",
    "            torch.nn.Dropout(0.5),\n",
    "            torch.nn.Linear(512, 512)\n",
    "        )\n",
    "\n",
    "    def forward(self, x):\n",
    "        features = self.backbone(x)\n",
    "        features = features.squeeze() #[B,1024,1]=>[B,1024]\n",
    "        x = self.head(features)\n",
    "\n",
    "        return x"
   ]
  },
  {
   "cell_type": "code",
   "execution_count": 5,
   "metadata": {},
   "outputs": [],
   "source": [
    "\n",
    "class DistanceRatioLoss(nn.Module):\n",
    "    \n",
    "    def __init__(self):\n",
    "        super(DistanceRatioLoss, self).__init__()\n",
    "    \n",
    "    def forward(self, anchor, positive, negative):\n",
    "        dist_pos_sq = torch.sum(torch.pow(anchor - positive, 2), dim=1)\n",
    "        dist_neg_sq = torch.sum(torch.pow(anchor - negative, 2), dim=1)\n",
    "        \n",
    "        dist_pos = torch.exp(-torch.sqrt(dist_pos_sq))\n",
    "        dist_neg = torch.exp(-torch.sqrt(dist_neg_sq))\n",
    "        loss = -torch.log( dist_pos / (dist_pos + dist_neg))\n",
    "        \n",
    "        loss = torch.mean(loss)\n",
    "        return loss"
   ]
  },
  {
   "cell_type": "code",
   "execution_count": 6,
   "metadata": {},
   "outputs": [],
   "source": [
    "def train_ssl(model, num_epochs, optimizer, criterion, dataloaders):\n",
    "    model.to(device)\n",
    "    best = 100\n",
    "    for epoch in range(num_epochs):        \n",
    "        model.train()\n",
    "        torch.set_grad_enabled(True)\n",
    "        train_loss = 0.0\n",
    "\n",
    "        with tqdm(total=len(dataloaders['train']), unit=\"batch\", desc=f\"Epoch {epoch}/{num_epochs}\") as tepoch:\n",
    "            for batch_idx, (anchor, positive, negative) in enumerate(dataloaders['train']):\n",
    "                optimizer.zero_grad()\n",
    "                anchor_emb = model(anchor.to(device))\n",
    "                positive_emb = model(positive.to(device))\n",
    "                negative_emb = model(negative.to(device))\n",
    "                loss = criterion(anchor_emb, positive_emb, negative_emb)\n",
    "                loss.backward()\n",
    "                optimizer.step()\n",
    "                train_loss += loss.item()\n",
    "                tepoch.set_postfix(loss=loss.item())\n",
    "                tepoch.update(1)\n",
    "\n",
    "        train_loss /= len(dataloaders['train'])\n",
    "        print('Epoch [{}/{}], Train Loss: {:.4f}'.format(epoch, num_epochs, train_loss))\n",
    "        if train_loss < best:\n",
    "            best = train_loss\n",
    "            ruta_guardado = '{0}.pt'.format(save_model)\n",
    "            torch.save(model.state_dict(), ruta_guardado)"
   ]
  },
  {
   "attachments": {},
   "cell_type": "markdown",
   "metadata": {},
   "source": [
    "ssl_model = MotionDisentangling()\n",
    "lr = 1e-4\n",
    "criterion = DistanceRatioLoss()\n",
    "optimizer = torch.optim.Adam(ssl_model.parameters(),lr=lr, weight_decay=1e-5)\n",
    "num_epochs = 20\n",
    "train_ssl(ssl_model, num_epochs,optimizer,criterion, dataloaders)"
   ]
  },
  {
   "attachments": {},
   "cell_type": "markdown",
   "metadata": {},
   "source": [
    "# SS"
   ]
  },
  {
   "cell_type": "code",
   "execution_count": 7,
   "metadata": {},
   "outputs": [],
   "source": [
    "from dataset import VideoDataset\n",
    "from config import get_parser\n",
    "from logger import Logger\n",
    "\n",
    "from utils import *\n",
    "import torch.nn.init as init\n",
    "\n",
    "#model_name = 'squat_kf'\n",
    "#model_name = 'squat_ki'\n",
    "#model_name = 'ohp_e'\n",
    "#model_name = 'ohp_k'\n",
    "#data = 'error_knees_inward.json'\n",
    "#data = 'error_knees_forward.json'\n",
    "model_name = 'ohp_k'\n",
    "#model_name = 'ohp_e'\n",
    "#data = 'error_elbows.json'\n",
    "data = 'error_knees.json'\n",
    "dataset_path = './FAQA/OHP/Labeled/'\n",
    "#dataset_path = './FAQA/Squat/Labeled/'"
   ]
  },
  {
   "cell_type": "code",
   "execution_count": 8,
   "metadata": {},
   "outputs": [],
   "source": [
    "class Args:\n",
    "    def __init__(self, dataset_path):\n",
    "        self.dataset_path = dataset_path"
   ]
  },
  {
   "cell_type": "code",
   "execution_count": 9,
   "metadata": {},
   "outputs": [
    {
     "name": "stdout",
     "output_type": "stream",
     "text": [
      "torch.Size([64, 3, 224, 224])\n",
      "1582\n",
      "339\n",
      "tensor([0.0010, 0.0018])\n",
      "tensor([1.9242], device='cuda:0')\n"
     ]
    }
   ],
   "source": [
    "args = Args(dataset_path)\n",
    "s_train = VideoDataset('train', args, data)\n",
    "s_train_loader = torch.utils.data.DataLoader(s_train,\n",
    "                                                       batch_size=4,\n",
    "                                                       num_workers=8,\n",
    "                                                       shuffle=True,\n",
    "                                                       pin_memory=True,\n",
    "                                                       worker_init_fn=worker_init_fn)\n",
    "s_val = VideoDataset('val', args, data)\n",
    "s_val_loader  = torch.utils.data.DataLoader(s_val,\n",
    "                                                      batch_size=4,\n",
    "                                                      num_workers=8,\n",
    "                                                      shuffle=False,\n",
    "                                                      pin_memory=True,\n",
    "                                                      worker_init_fn=worker_init_fn)\n",
    "print(s_train.__getitem__(0)['video'].shape)\n",
    "print(s_train.__len__())\n",
    "print(s_val.__len__())\n",
    "\n",
    "labels = np.array(s_train.getlabels()) #sin encabezado\n",
    "class_frequencies = torch.bincount(torch.IntTensor(labels))\n",
    "class_weights = 1.0 / class_frequencies\n",
    "print(class_weights)\n",
    "\n",
    "\n",
    "num_positive = np.sum(labels == 1)\n",
    "num_negative = np.sum(labels == 0)\n",
    "weight_positive = num_negative / (num_positive + num_negative)\n",
    "weight_negative = num_positive / (num_positive + num_negative)\n",
    "#print(weight_positive, weight_negative)\n",
    "weights = torch.FloatTensor ([num_negative / num_positive]).to(device)\n",
    "print(weights)"
   ]
  },
  {
   "cell_type": "code",
   "execution_count": 10,
   "metadata": {},
   "outputs": [],
   "source": [
    "class W_BCEWithLogitsLoss(torch.nn.Module): \n",
    "    \n",
    "    def __init__(self, w_p = None, w_n = None):\n",
    "        super(W_BCEWithLogitsLoss, self).__init__()\n",
    "        \n",
    "        self.w_p = w_p\n",
    "        self.w_n = w_n\n",
    "        \n",
    "    def forward(self, ps, labels, epsilon = 1e-7):\n",
    "        \n",
    "        loss_pos = -1 * torch.mean(self.w_p * labels * torch.log(ps + epsilon))\n",
    "        loss_neg = -1 * torch.mean(self.w_n * (1-labels) * torch.log((1-ps) + epsilon))\n",
    "        \n",
    "        loss = loss_pos + loss_neg\n",
    "        \n",
    "        return loss"
   ]
  },
  {
   "cell_type": "code",
   "execution_count": 11,
   "metadata": {},
   "outputs": [],
   "source": [
    "class FTModel(torch.nn.Module):\n",
    "    def __init__(self, n_outputs=1):\n",
    "        super().__init__()\n",
    "        self.backbone = InceptionI3d()\n",
    "        \n",
    "        #state_dict = torch.load('./models/{0}.pt'.format(save_model))\n",
    "        \n",
    "        #mapped_state_dict = {}\n",
    "        #for k, v in state_dict.items():\n",
    "        #    if k.startswith('backbone.'):\n",
    "        #        k = k[len('backbone.'):]  # Remove the 'backbone.' prefix\n",
    "        #        mapped_state_dict[k] = v\n",
    "\n",
    "        #self.backbone.load_state_dict(mapped_state_dict)\n",
    "\n",
    "        #for i, param in enumerate(self.backbone.parameters()):\n",
    "        #    param.requires_grad = False \n",
    "       \n",
    "        #for name, param in self.backbone.named_parameters():\n",
    "        #    if 'Conv3d_1a_7x7' in name or 'Conv3d_2b_1x1' in name or 'Conv3d_2c_3x3' in name or 'Mixed_3b' in name:\n",
    "        #        param.requires_grad = False\n",
    "\n",
    "        path = \"./models/rgb_i3d_pretrained.pt\"\n",
    "        self.backbone.load_state_dict(torch.load(path))\n",
    "            \n",
    "        feature_dim = 1024 #1024\n",
    "        self.head = torch.nn.Sequential(\n",
    "            torch.nn.Linear(feature_dim, 256),\n",
    "            torch.nn.ReLU(),\n",
    "            torch.nn.Dropout(0.5),\n",
    "            torch.nn.Linear(256, 128),\n",
    "            torch.nn.ReLU(),\n",
    "            torch.nn.Dropout(0.5),\n",
    "            torch.nn.Linear(128, n_outputs)\n",
    "        )\n",
    "\n",
    "        self.getprob = nn.Sigmoid() \n",
    "\n",
    "    def forward(self, x):\n",
    "        x = self.backbone(x)\n",
    "        x = torch.mean(x,-1)\n",
    "        x = self.head(x)\n",
    "        #x = self.getprob(x) #BCEwithlogits already has\n",
    "        return x"
   ]
  },
  {
   "cell_type": "code",
   "execution_count": 12,
   "metadata": {},
   "outputs": [],
   "source": [
    "def train_FTModel(model, num_epochs, optimizer, criterion, train_loader, val_loader, scheduler, model_name):\n",
    "    hist = {'loss': [], 'acc': [], 'test_acc': []}\n",
    "    best = 0\n",
    "    for epoch in range(num_epochs):\n",
    "        model.train()\n",
    "        train_loss = 0.0\n",
    "        #true_scores, pred_scores, keys_list = [], [], []\n",
    "        with tqdm(train_loader, unit=\"batch\") as tepoch:\n",
    "            for data in tepoch:\n",
    "                videos = data['video'].to(device)\n",
    "                videos.transpose_(1, 2)\n",
    "                batch_size, C, frames, H, W = videos.shape\n",
    "                labels = torch.tensor(data['final_score'].numpy().reshape((batch_size, -1))).to(device).float()\n",
    "                tepoch.set_description(f\"Epoch {epoch+1}/{num_epochs}\")\n",
    "                optimizer.zero_grad()\n",
    "                outputs = model(videos)\n",
    "                loss = criterion(outputs, labels)\n",
    "                loss.backward()\n",
    "                optimizer.step()\n",
    "                train_loss += loss.item()\n",
    "                tepoch.set_postfix(loss=loss.item())\n",
    "\n",
    "        train_loss /= len(train_loader)\n",
    "        model.eval()\n",
    "        val_loss = 0.0\n",
    "        \n",
    "        with torch.no_grad():\n",
    "            y_true = []\n",
    "            y_pred = []\n",
    "            \n",
    "            with tqdm(val_loader, unit=\"batch\") as tepoch:\n",
    "                for data in tepoch:\n",
    "                    videos = data['video'].to(device)\n",
    "                    videos.transpose_(1, 2)\n",
    "                    batch_size, C, frames, H, W = videos.shape\n",
    "                    tepoch.set_description(f\"Epoch {epoch+1}/{num_epochs}\")\n",
    "                    #labels = torch.tensor(data['final_score'].numpy()).to(device)\n",
    "                    labels = torch.tensor(data['final_score'].numpy().reshape((batch_size, -1))).to(device).float()\n",
    "                    outputs = model(videos) #Logits\n",
    "                    loss = criterion(outputs, labels)\n",
    "                    val_loss += loss.item()\n",
    "                    tepoch.set_postfix(loss=loss.item())\n",
    "                    pred_cls = []\n",
    "                    m = nn.Sigmoid() \n",
    "                    outputs = m(outputs)\n",
    "                    for i in range(len(outputs)):\n",
    "                        pred_cls.append(1 if outputs[i] > 0.5 else 0)\n",
    "                    y_true.extend(data['final_score'].numpy().reshape((batch_size, -1)).flatten().tolist())\n",
    "                    y_pred.extend(pred_cls)\n",
    "                \n",
    "        \n",
    "        val_loss /= len(val_loader)\n",
    "        #scheduler.step(val_loss)\n",
    "        #scheduler.step()\n",
    "        print('Epoch [{}/{}], Train Loss: {:.7f} ,Val Loss: {:.7f}'.format(epoch+1, num_epochs, train_loss, val_loss))\n",
    "        f1 = f1_score(y_true, y_pred,average='macro')\n",
    "        f1score_class_1 = f1_score(y_true, y_pred, pos_label=1)\n",
    "        f1score_class_0 = f1_score(y_true, y_pred, pos_label=0)\n",
    "        print('F1 score on the val: {:.7f}, F1 Class 1: {:.7f}, F1 Class 0: {:.7f}'.format(f1, f1score_class_1, f1score_class_0))\n",
    "\n",
    "        if f1 > best:\n",
    "            best = f1\n",
    "            print('-----New best found!-----')\n",
    "            checkpoint = {\n",
    "                'model_state_dict': model.state_dict(),\n",
    "                'optimizer_state_dict': optimizer.state_dict()\n",
    "            }\n",
    "\n",
    "            torch.save(checkpoint, 'checkpoint_supervied_{0}.pt'.format(model_name))"
   ]
  },
  {
   "cell_type": "code",
   "execution_count": 13,
   "metadata": {},
   "outputs": [],
   "source": [
    "def SSLeval():\n",
    "    ft_model = FTModel()\n",
    "    \n",
    "    def init_weights(m):\n",
    "        if isinstance(m, nn.Linear):\n",
    "            init.kaiming_uniform_(m.weight)\n",
    "            if m.bias is not None:\n",
    "                init.constant_(m.bias, 0)\n",
    "\n",
    "    ft_model.apply(init_weights)\n",
    "    ft_model.to(device)\n",
    "    optimizer = torch.optim.Adam(ft_model.parameters(), lr=1e-4, weight_decay=1e-5)    \n",
    "    criterion = nn.BCEWithLogitsLoss(pos_weight=weights)\n",
    "    #criterion = nn.BCELoss()\n",
    "    lambda1 = lambda epoch: 0.95\n",
    "    #scheduler = torch.optim.lr_scheduler.ReduceLROnPlateau(optimizer, factor = 0.1, patience=2, verbose = True)\n",
    "    #scheduler = torch.optim.lr_scheduler.MultiplicativeLR(optimizer, lambda1, verbose = True)\n",
    "    scheduler = None\n",
    "    num_epochs = 20\n",
    "    train_FTModel(ft_model, num_epochs, optimizer, criterion,s_train_loader, s_val_loader, scheduler, model_name)"
   ]
  },
  {
   "cell_type": "code",
   "execution_count": 14,
   "metadata": {},
   "outputs": [
    {
     "name": "stderr",
     "output_type": "stream",
     "text": [
      "Epoch 1/20: 100%|██████████| 396/396 [07:11<00:00,  1.09s/batch, loss=1.28] \n",
      "Epoch 1/20: 100%|██████████| 85/85 [01:44<00:00,  1.23s/batch, loss=0.54] \n"
     ]
    },
    {
     "name": "stdout",
     "output_type": "stream",
     "text": [
      "Epoch [1/20], Train Loss: 0.9180381 ,Val Loss: 0.7457206\n",
      "F1 score on the val: 0.6191376, F1 Class 1: 0.6079027, F1 Class 0: 0.6303725\n",
      "-----New best found!-----\n"
     ]
    },
    {
     "name": "stderr",
     "output_type": "stream",
     "text": [
      "Epoch 2/20: 100%|██████████| 396/396 [06:44<00:00,  1.02s/batch, loss=0.237]\n",
      "Epoch 2/20: 100%|██████████| 85/85 [00:28<00:00,  3.02batch/s, loss=0.12]  \n"
     ]
    },
    {
     "name": "stdout",
     "output_type": "stream",
     "text": [
      "Epoch [2/20], Train Loss: 0.6720102 ,Val Loss: 0.5754559\n",
      "F1 score on the val: 0.7553017, F1 Class 1: 0.7018868, F1 Class 0: 0.8087167\n",
      "-----New best found!-----\n"
     ]
    },
    {
     "name": "stderr",
     "output_type": "stream",
     "text": [
      "Epoch 3/20: 100%|██████████| 396/396 [06:42<00:00,  1.02s/batch, loss=1.5]   \n",
      "Epoch 3/20: 100%|██████████| 85/85 [00:27<00:00,  3.04batch/s, loss=0.019] \n"
     ]
    },
    {
     "name": "stdout",
     "output_type": "stream",
     "text": [
      "Epoch [3/20], Train Loss: 0.5075441 ,Val Loss: 0.4254923\n",
      "F1 score on the val: 0.8461644, F1 Class 1: 0.7817259, F1 Class 0: 0.9106029\n",
      "-----New best found!-----\n"
     ]
    },
    {
     "name": "stderr",
     "output_type": "stream",
     "text": [
      "Epoch 4/20: 100%|██████████| 396/396 [06:43<00:00,  1.02s/batch, loss=0.21]   \n",
      "Epoch 4/20: 100%|██████████| 85/85 [00:27<00:00,  3.04batch/s, loss=0.00594]\n"
     ]
    },
    {
     "name": "stdout",
     "output_type": "stream",
     "text": [
      "Epoch [4/20], Train Loss: 0.2790723 ,Val Loss: 0.4608550\n",
      "F1 score on the val: 0.8391337, F1 Class 1: 0.7793427, F1 Class 0: 0.8989247\n"
     ]
    },
    {
     "name": "stderr",
     "output_type": "stream",
     "text": [
      "Epoch 5/20: 100%|██████████| 396/396 [06:42<00:00,  1.02s/batch, loss=0.069]  \n",
      "Epoch 5/20: 100%|██████████| 85/85 [00:27<00:00,  3.04batch/s, loss=0.00898]\n"
     ]
    },
    {
     "name": "stdout",
     "output_type": "stream",
     "text": [
      "Epoch [5/20], Train Loss: 0.2306979 ,Val Loss: 0.5326584\n",
      "F1 score on the val: 0.8391296, F1 Class 1: 0.7878788, F1 Class 0: 0.8903803\n"
     ]
    },
    {
     "name": "stderr",
     "output_type": "stream",
     "text": [
      "Epoch 6/20: 100%|██████████| 396/396 [06:42<00:00,  1.02s/batch, loss=0.37]   \n",
      "Epoch 6/20: 100%|██████████| 85/85 [00:28<00:00,  3.02batch/s, loss=0.0948] \n"
     ]
    },
    {
     "name": "stdout",
     "output_type": "stream",
     "text": [
      "Epoch [6/20], Train Loss: 0.1319534 ,Val Loss: 0.6256635\n",
      "F1 score on the val: 0.8215645, F1 Class 1: 0.7547170, F1 Class 0: 0.8884120\n"
     ]
    },
    {
     "name": "stderr",
     "output_type": "stream",
     "text": [
      "Epoch 7/20: 100%|██████████| 396/396 [06:42<00:00,  1.02s/batch, loss=0.00181]\n",
      "Epoch 7/20: 100%|██████████| 85/85 [00:28<00:00,  3.03batch/s, loss=0.00242]\n"
     ]
    },
    {
     "name": "stdout",
     "output_type": "stream",
     "text": [
      "Epoch [7/20], Train Loss: 0.0639626 ,Val Loss: 0.8022706\n",
      "F1 score on the val: 0.8038194, F1 Class 1: 0.7187500, F1 Class 0: 0.8888889\n"
     ]
    },
    {
     "name": "stderr",
     "output_type": "stream",
     "text": [
      "Epoch 8/20: 100%|██████████| 396/396 [07:02<00:00,  1.07s/batch, loss=0.00998] \n",
      "Epoch 8/20: 100%|██████████| 85/85 [00:30<00:00,  2.83batch/s, loss=0.359]   \n"
     ]
    },
    {
     "name": "stdout",
     "output_type": "stream",
     "text": [
      "Epoch [8/20], Train Loss: 0.0766819 ,Val Loss: 1.1102310\n",
      "F1 score on the val: 0.7912585, F1 Class 1: 0.6927374, F1 Class 0: 0.8897796\n"
     ]
    },
    {
     "name": "stderr",
     "output_type": "stream",
     "text": [
      "Epoch 9/20: 100%|██████████| 396/396 [07:07<00:00,  1.08s/batch, loss=0.0187]  \n",
      "Epoch 9/20: 100%|██████████| 85/85 [00:29<00:00,  2.91batch/s, loss=0.000535]\n"
     ]
    },
    {
     "name": "stdout",
     "output_type": "stream",
     "text": [
      "Epoch [9/20], Train Loss: 0.0686036 ,Val Loss: 0.6701616\n",
      "F1 score on the val: 0.8378193, F1 Class 1: 0.7722772, F1 Class 0: 0.9033613\n"
     ]
    },
    {
     "name": "stderr",
     "output_type": "stream",
     "text": [
      "Epoch 10/20: 100%|██████████| 396/396 [07:07<00:00,  1.08s/batch, loss=0.00459] \n",
      "Epoch 10/20: 100%|██████████| 85/85 [00:29<00:00,  2.90batch/s, loss=0.000764]\n"
     ]
    },
    {
     "name": "stdout",
     "output_type": "stream",
     "text": [
      "Epoch [10/20], Train Loss: 0.0316043 ,Val Loss: 1.0000271\n",
      "F1 score on the val: 0.8205818, F1 Class 1: 0.7448980, F1 Class 0: 0.8962656\n"
     ]
    },
    {
     "name": "stderr",
     "output_type": "stream",
     "text": [
      "Epoch 11/20: 100%|██████████| 396/396 [07:04<00:00,  1.07s/batch, loss=0.00237] \n",
      "Epoch 11/20: 100%|██████████| 85/85 [00:29<00:00,  2.88batch/s, loss=0.00199]\n"
     ]
    },
    {
     "name": "stdout",
     "output_type": "stream",
     "text": [
      "Epoch [11/20], Train Loss: 0.1445361 ,Val Loss: 0.6887973\n",
      "F1 score on the val: 0.8233526, F1 Class 1: 0.7592593, F1 Class 0: 0.8874459\n"
     ]
    },
    {
     "name": "stderr",
     "output_type": "stream",
     "text": [
      "Epoch 12/20: 100%|██████████| 396/396 [07:07<00:00,  1.08s/batch, loss=0.00145] \n",
      "Epoch 12/20: 100%|██████████| 85/85 [00:28<00:00,  2.94batch/s, loss=0.000115]\n"
     ]
    },
    {
     "name": "stdout",
     "output_type": "stream",
     "text": [
      "Epoch [12/20], Train Loss: 0.0171746 ,Val Loss: 1.1138393\n",
      "F1 score on the val: 0.8349352, F1 Class 1: 0.7653061, F1 Class 0: 0.9045643\n"
     ]
    },
    {
     "name": "stderr",
     "output_type": "stream",
     "text": [
      "Epoch 13/20:   1%|▏         | 5/396 [00:08<11:00,  1.69s/batch, loss=0.103]   \n"
     ]
    },
    {
     "ename": "KeyboardInterrupt",
     "evalue": "",
     "output_type": "error",
     "traceback": [
      "\u001b[0;31m---------------------------------------------------------------------------\u001b[0m",
      "\u001b[0;31mKeyboardInterrupt\u001b[0m                         Traceback (most recent call last)",
      "Cell \u001b[0;32mIn[14], line 1\u001b[0m\n\u001b[0;32m----> 1\u001b[0m SSLeval()\n",
      "Cell \u001b[0;32mIn[13], line 20\u001b[0m, in \u001b[0;36mSSLeval\u001b[0;34m()\u001b[0m\n\u001b[1;32m     18\u001b[0m scheduler \u001b[39m=\u001b[39m \u001b[39mNone\u001b[39;00m\n\u001b[1;32m     19\u001b[0m num_epochs \u001b[39m=\u001b[39m \u001b[39m20\u001b[39m\n\u001b[0;32m---> 20\u001b[0m train_FTModel(ft_model, num_epochs, optimizer, criterion,s_train_loader, s_val_loader, scheduler, model_name)\n",
      "Cell \u001b[0;32mIn[12], line 20\u001b[0m, in \u001b[0;36mtrain_FTModel\u001b[0;34m(model, num_epochs, optimizer, criterion, train_loader, val_loader, scheduler, model_name)\u001b[0m\n\u001b[1;32m     18\u001b[0m         loss\u001b[39m.\u001b[39mbackward()\n\u001b[1;32m     19\u001b[0m         optimizer\u001b[39m.\u001b[39mstep()\n\u001b[0;32m---> 20\u001b[0m         train_loss \u001b[39m+\u001b[39m\u001b[39m=\u001b[39m loss\u001b[39m.\u001b[39;49mitem()\n\u001b[1;32m     21\u001b[0m         tepoch\u001b[39m.\u001b[39mset_postfix(loss\u001b[39m=\u001b[39mloss\u001b[39m.\u001b[39mitem())\n\u001b[1;32m     23\u001b[0m train_loss \u001b[39m/\u001b[39m\u001b[39m=\u001b[39m \u001b[39mlen\u001b[39m(train_loader)\n",
      "\u001b[0;31mKeyboardInterrupt\u001b[0m: "
     ]
    }
   ],
   "source": [
    "SSLeval()"
   ]
  },
  {
   "cell_type": "code",
   "execution_count": 15,
   "metadata": {},
   "outputs": [],
   "source": [
    "s_test = VideoDataset('test', args, data)\n",
    "s_test_loader  = torch.utils.data.DataLoader(s_test,\n",
    "                                                      batch_size=4,\n",
    "                                                      num_workers=8,\n",
    "                                                      shuffle=False,\n",
    "                                                      pin_memory=True,\n",
    "                                                      worker_init_fn=worker_init_fn)"
   ]
  },
  {
   "cell_type": "code",
   "execution_count": 16,
   "metadata": {},
   "outputs": [],
   "source": [
    "def eval_FTModel(model, test_loader):  \n",
    "    with torch.no_grad():\n",
    "        y_true = []\n",
    "        y_pred = []\n",
    "        \n",
    "        with tqdm(test_loader, unit=\"batch\") as tepoch:\n",
    "            for data in tepoch:\n",
    "                videos = data['video'].to(device)\n",
    "                videos.transpose_(1, 2)\n",
    "                batch_size, C, frames, H, W = videos.shape    \n",
    "                outputs = model(videos)\n",
    "                m = nn.Sigmoid() \n",
    "                outputs = m(outputs)\n",
    "                pred_cls = []\n",
    "                for i in range(len(outputs)):\n",
    "                    pred_cls.append(1 if outputs[i] > 0.5 else 0)\n",
    "                y_true.extend(data['final_score'].numpy().reshape((batch_size, -1)).flatten().tolist())\n",
    "                y_pred.extend(pred_cls)\n",
    "        \n",
    "        f1 = f1_score(y_true, y_pred,average='macro')\n",
    "        f1score_class_1 = f1_score(y_true, y_pred, pos_label=1)\n",
    "        f1score_class_0 = f1_score(y_true, y_pred, pos_label=0)\n",
    "        print('F1 score on the test: {:.7f} C0: {:.2f} C1: {:.2f}'.format(f1,f1score_class_0,f1score_class_1))"
   ]
  },
  {
   "cell_type": "code",
   "execution_count": 17,
   "metadata": {},
   "outputs": [
    {
     "name": "stderr",
     "output_type": "stream",
     "text": [
      "100%|██████████| 85/85 [01:56<00:00,  1.37s/batch]"
     ]
    },
    {
     "name": "stdout",
     "output_type": "stream",
     "text": [
      "F1 score on the test: 0.8305502 C0: 0.87 C1: 0.79\n"
     ]
    },
    {
     "name": "stderr",
     "output_type": "stream",
     "text": [
      "\n"
     ]
    }
   ],
   "source": [
    "ft_model = FTModel()\n",
    "path = \"./checkpoint_supervied_{0}.pt\".format(model_name)\n",
    "checkpoint = torch.load(path)\n",
    "ft_model.load_state_dict(checkpoint['model_state_dict'])\n",
    "ft_model.to(device)\n",
    "eval_FTModel(ft_model, s_test_loader)"
   ]
  }
 ],
 "metadata": {
  "kernelspec": {
   "display_name": "pytorch",
   "language": "python",
   "name": "python3"
  },
  "language_info": {
   "codemirror_mode": {
    "name": "ipython",
    "version": 3
   },
   "file_extension": ".py",
   "mimetype": "text/x-python",
   "name": "python",
   "nbconvert_exporter": "python",
   "pygments_lexer": "ipython3",
   "version": "3.9.12"
  },
  "orig_nbformat": 4
 },
 "nbformat": 4,
 "nbformat_minor": 2
}
