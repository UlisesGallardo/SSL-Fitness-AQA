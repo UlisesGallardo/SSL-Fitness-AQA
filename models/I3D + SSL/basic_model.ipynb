{
 "cells": [
  {
   "cell_type": "code",
   "execution_count": 4,
   "metadata": {},
   "outputs": [],
   "source": [
    "import torch\n",
    "import torch.nn as nn\n",
    "from tqdm import tqdm\n",
    "import random \n",
    "random_seed = 123  \n",
    "random.seed(random_seed)\n",
    "from sklearn.metrics import f1_score\n",
    "from datasetSSL import VideoDatasetSSL\n",
    "from utils import *\n",
    "#from torchvision.models.video import r2plus1d_18, R2Plus1D_18_Weights\n",
    "from models.pytorch_i3d import InceptionI3d"
   ]
  },
  {
   "cell_type": "code",
   "execution_count": 3,
   "metadata": {},
   "outputs": [
    {
     "name": "stdout",
     "output_type": "stream",
     "text": [
      "Using device: cuda\n"
     ]
    }
   ],
   "source": [
    "device = torch.device('cuda' if torch.cuda.is_available() else 'cpu')\n",
    "print('Using device:', device)\n",
    "torch.cuda.empty_cache()\n",
    "train_batch_size = 6\n",
    "num_workers = 8"
   ]
  },
  {
   "attachments": {},
   "cell_type": "markdown",
   "metadata": {},
   "source": [
    "# SSL"
   ]
  },
  {
   "cell_type": "code",
   "execution_count": 6,
   "metadata": {},
   "outputs": [],
   "source": [
    "input_path = \"./FAQA/OHP/Unlabeled/\"\n",
    "dataloaders = {}\n",
    "dataloaders['train'] = torch.utils.data.DataLoader(VideoDatasetSSL(input_path, 5490),\n",
    "                                                    batch_size=train_batch_size,\n",
    "                                                    num_workers=num_workers,\n",
    "                                                    shuffle=True,\n",
    "                                                    pin_memory=True,\n",
    "                                                    worker_init_fn=worker_init_fn)\n",
    "save_model = 'ssl_ohp'"
   ]
  },
  {
   "cell_type": "code",
   "execution_count": 4,
   "metadata": {},
   "outputs": [],
   "source": [
    "class MotionDisentangling(torch.nn.Module):\n",
    "    def __init__(self, f=1024, path = './models/rgb_i3d_pretrained.pt'):\n",
    "        super().__init__()\n",
    "        # Load the pre-trained R(2+1)D 18 model on Kinetics400_V1\n",
    "        #weights = R2Plus1D_18_Weights.DEFAULT\n",
    "        #self.backbone = r2plus1d_18(weights=weights)\n",
    "        #self.backbone = torchvision.models.video.r2plus1d_18(pretrained=True)\n",
    "        self.backbone = InceptionI3d()\n",
    "        self.backbone.load_state_dict(torch.load(path))\n",
    "        \n",
    "        self.head = torch.nn.Sequential(\n",
    "            torch.nn.Linear(f, f),\n",
    "            torch.nn.ReLU(),\n",
    "            torch.nn.Dropout(0.5),\n",
    "            torch.nn.Linear(f, f)\n",
    "        )\n",
    "\n",
    "    def forward(self, x):\n",
    "        features = self.backbone(x)\n",
    "        features = features.squeeze() #[B,1024]\n",
    "        x = self.head(features)\n",
    "\n",
    "        return x"
   ]
  },
  {
   "cell_type": "code",
   "execution_count": 5,
   "metadata": {},
   "outputs": [],
   "source": [
    "\n",
    "class DistanceRatioLoss(nn.Module):\n",
    "    \n",
    "    def __init__(self, margin=0.5, epsilon=1e-8):\n",
    "        super(DistanceRatioLoss, self).__init__()\n",
    "        self.margin = margin\n",
    "        self.epsilon = epsilon\n",
    "        \n",
    "    \n",
    "    def forward(self, anchor, positive, negative):\n",
    "        dist_pos_sq = torch.sum(torch.pow(anchor - positive, 2), dim=1)\n",
    "        dist_neg_sq = torch.sum(torch.pow(anchor - negative, 2), dim=1)\n",
    "        \n",
    "        dist_pos = torch.exp(-torch.sqrt(dist_pos_sq))\n",
    "        dist_neg = torch.exp(-torch.sqrt(dist_neg_sq))\n",
    "        loss = -torch.log( dist_pos / (dist_pos + dist_neg))\n",
    "        \n",
    "        loss = torch.mean(loss)\n",
    "        return loss"
   ]
  },
  {
   "cell_type": "code",
   "execution_count": 6,
   "metadata": {},
   "outputs": [],
   "source": [
    "def train_ssl(model, num_epochs, optimizer, criterion, dataloaders):\n",
    "    model.to(device)\n",
    "    best = 100\n",
    "    for epoch in range(num_epochs):        \n",
    "        model.train()\n",
    "        torch.set_grad_enabled(True)\n",
    "        train_loss = 0.0\n",
    "\n",
    "        with tqdm(total=len(dataloaders['train']), unit=\"batch\", desc=f\"Epoch {epoch}/{num_epochs}\") as tepoch:\n",
    "            for batch_idx, (anchor, positive, negative) in enumerate(dataloaders['train']):\n",
    "                optimizer.zero_grad()\n",
    "                anchor_emb = model(anchor.to(device))\n",
    "                positive_emb = model(positive.to(device))\n",
    "                negative_emb = model(negative.to(device))\n",
    "                loss = criterion(anchor_emb, positive_emb, negative_emb)\n",
    "                loss.backward()\n",
    "                optimizer.step()\n",
    "                train_loss += loss.item()\n",
    "                tepoch.set_postfix(loss=loss.item())\n",
    "                tepoch.update(1)\n",
    "\n",
    "        train_loss /= len(dataloaders['train'])\n",
    "        print('Epoch [{}/{}], Train Loss: {:.4f}'.format(epoch, num_epochs, train_loss))\n",
    "        if train_loss < best:\n",
    "            best = train_loss\n",
    "            ruta_guardado = '{0}.pt'.format(save_model)\n",
    "            torch.save(model.state_dict(), ruta_guardado)"
   ]
  },
  {
   "cell_type": "code",
   "execution_count": null,
   "metadata": {},
   "outputs": [],
   "source": [
    "ssl_model = MotionDisentangling()\n",
    "lr = 1e-4\n",
    "criterion = DistanceRatioLoss()\n",
    "optimizer = torch.optim.Adam(ssl_model.parameters(),lr=lr, weight_decay=1e-5)\n",
    "num_epochs = 20\n",
    "train_ssl(ssl_model, num_epochs,optimizer,criterion, dataloaders)"
   ]
  },
  {
   "attachments": {},
   "cell_type": "markdown",
   "metadata": {},
   "source": [
    "# SS"
   ]
  },
  {
   "cell_type": "code",
   "execution_count": null,
   "metadata": {},
   "outputs": [],
   "source": [
    "from dataset import VideoDataset\n",
    "from config import get_parser\n",
    "from logger import Logger\n",
    "\n",
    "from utils import *\n",
    "import torch.nn.init as init\n",
    "\n",
    "#model_name = 'squat_kf'\n",
    "#model_name = 'squat_ki'\n",
    "#model_name = 'ohp_e'\n",
    "#model_name = 'ohp_k'\n",
    "#data = 'error_knees_inward.json'\n",
    "#data = 'error_knees_forward.json'\n",
    "model_name = 'ohp_k'\n",
    "#model_name = 'ohp_e'\n",
    "#data = 'error_elbows.json'\n",
    "data = 'error_knees.json'\n",
    "dataset_path = './data/FAQA/Squat/'\n",
    "dataset_path = './data/FAQA/OHP/'"
   ]
  },
  {
   "cell_type": "code",
   "execution_count": null,
   "metadata": {},
   "outputs": [],
   "source": [
    "class Args:\n",
    "    def __init__(self, dataset_path):\n",
    "        self.dataset_path = dataset_path"
   ]
  },
  {
   "cell_type": "code",
   "execution_count": null,
   "metadata": {},
   "outputs": [
    {
     "name": "stdout",
     "output_type": "stream",
     "text": [
      "torch.Size([32, 3, 224, 224])\n",
      "1582\n",
      "339\n",
      "0.6580278128950695 0.3419721871049305\n"
     ]
    }
   ],
   "source": [
    "args = Args(dataset_path)\n",
    "s_train = VideoDataset('train', args, data)\n",
    "s_train_loader = torch.utils.data.DataLoader(s_train,\n",
    "                                                       batch_size=4,\n",
    "                                                       num_workers=8,\n",
    "                                                       shuffle=True,\n",
    "                                                       pin_memory=True,\n",
    "                                                       worker_init_fn=worker_init_fn)\n",
    "s_val = VideoDataset('val', args, data)\n",
    "s_val_loader  = torch.utils.data.DataLoader(s_val,\n",
    "                                                      batch_size=4,\n",
    "                                                      num_workers=8,\n",
    "                                                      shuffle=False,\n",
    "                                                      pin_memory=True,\n",
    "                                                      worker_init_fn=worker_init_fn)\n",
    "print(s_train.__getitem__(0)['video'].shape)\n",
    "print(s_train.__len__())\n",
    "print(s_val.__len__())\n",
    "\n",
    "labels = np.array(s_train.getlabels()) #sin encabezado\n",
    "\n",
    "num_positive = np.sum(labels == 1)\n",
    "num_negative = np.sum(labels == 0)\n",
    "weight_positive = num_negative / (num_positive + num_negative)\n",
    "weight_negative = num_positive / (num_positive + num_negative)\n",
    "print(weight_positive, weight_negative)"
   ]
  },
  {
   "cell_type": "code",
   "execution_count": null,
   "metadata": {},
   "outputs": [],
   "source": [
    "class W_BCEWithLogitsLoss(torch.nn.Module): \n",
    "    \n",
    "    def __init__(self, w_p = None, w_n = None):\n",
    "        super(W_BCEWithLogitsLoss, self).__init__()\n",
    "        \n",
    "        self.w_p = w_p\n",
    "        self.w_n = w_n\n",
    "        \n",
    "    def forward(self, ps, labels, epsilon = 1e-7):\n",
    "        \n",
    "        loss_pos = -1 * torch.mean(self.w_p * labels * torch.log(ps + epsilon))\n",
    "        loss_neg = -1 * torch.mean(self.w_n * (1-labels) * torch.log((1-ps) + epsilon))\n",
    "        \n",
    "        loss = loss_pos + loss_neg\n",
    "        \n",
    "        return loss"
   ]
  },
  {
   "cell_type": "code",
   "execution_count": null,
   "metadata": {},
   "outputs": [],
   "source": [
    "class FTModel(torch.nn.Module):\n",
    "    def __init__(self, n_outputs=1):\n",
    "        super().__init__()\n",
    "        self.backbone = InceptionI3d()\n",
    "        \n",
    "        state_dict = torch.load('{0}.pt'.format(save_model))\n",
    "        \n",
    "        mapped_state_dict = {}\n",
    "        for k, v in state_dict.items():\n",
    "            if k.startswith('backbone.'):\n",
    "                k = k[len('backbone.'):]  # Remove the 'backbone.' prefix\n",
    "            mapped_state_dict[k] = v\n",
    "\n",
    "        self.backbone.load_state_dict(mapped_state_dict)\n",
    "\n",
    "        #for i, param in enumerate(self.backbone.parameters()):\n",
    "        #    param.requires_grad = False \n",
    "        \n",
    "        #path = \"./models/rgb_i3d_pretrained.pt\"\n",
    "        #self.backbone.load_state_dict(torch.load(path))\n",
    "            \n",
    "            #print(i)\n",
    "        feature_dim = 1024 #1024\n",
    "        self.head = torch.nn.Sequential(\n",
    "            torch.nn.Flatten(),\n",
    "            torch.nn.Linear(feature_dim, 256),\n",
    "            torch.nn.ReLU(),\n",
    "            torch.nn.Dropout(0.5),\n",
    "            torch.nn.Linear(256, 128),\n",
    "            torch.nn.ReLU(),\n",
    "            torch.nn.Dropout(0.5),\n",
    "            torch.nn.Linear(128, n_outputs)\n",
    "        )\n",
    "\n",
    "        self.dp = nn.Dropout(0.5)\n",
    "        self.getprob = nn.Sigmoid() \n",
    "\n",
    "    def forward(self, x):\n",
    "        x = self.backbone(x)\n",
    "        x = self.head(x)\n",
    "        #output = self.getprob(x) #BCEwithlogits already has\n",
    "        return x"
   ]
  },
  {
   "cell_type": "code",
   "execution_count": null,
   "metadata": {},
   "outputs": [],
   "source": [
    "def train_FTModel(model, num_epochs, optimizer, criterion, train_loader, val_loader, model_name):\n",
    "    hist = {'loss': [], 'acc': [], 'test_acc': []}\n",
    "    best = 0\n",
    "    for epoch in range(num_epochs):\n",
    "        model.train()\n",
    "        train_loss = 0.0\n",
    "        #true_scores, pred_scores, keys_list = [], [], []\n",
    "        with tqdm(train_loader, unit=\"batch\") as tepoch:\n",
    "            for data in tepoch:\n",
    "                videos = data['video'].to(device)\n",
    "                videos.transpose_(1, 2)\n",
    "                batch_size, C, frames, H, W = videos.shape\n",
    "                labels = torch.tensor(data['final_score'].numpy().reshape((batch_size, -1))).to(device).float()\n",
    "                tepoch.set_description(f\"Epoch {epoch+1}/{num_epochs}\")\n",
    "                optimizer.zero_grad()\n",
    "                outputs = model(videos)\n",
    "                #print(outputs.shape)\n",
    "                #print(labels.shape)\n",
    "                loss = criterion(outputs, labels)\n",
    "                loss.backward()\n",
    "                optimizer.step()\n",
    "                train_loss += loss.item()\n",
    "                tepoch.set_postfix(loss=loss.item())\n",
    "\n",
    "        train_loss /= len(train_loader)\n",
    "        model.eval()\n",
    "        val_loss = 0.0\n",
    "        \n",
    "        with torch.no_grad():\n",
    "            y_true = []\n",
    "            y_pred = []\n",
    "            \n",
    "            with tqdm(val_loader, unit=\"batch\") as tepoch:\n",
    "                for data in tepoch:\n",
    "                    videos = data['video'].to(device)\n",
    "                    videos.transpose_(1, 2)\n",
    "                    batch_size, C, frames, H, W = videos.shape\n",
    "                    tepoch.set_description(f\"Epoch {epoch+1}/{num_epochs}\")\n",
    "                    #labels = torch.tensor(data['final_score'].numpy()).to(device)\n",
    "                    labels = torch.tensor(data['final_score'].numpy().reshape((batch_size, -1))).to(device).float()\n",
    "                    outputs = model(videos)\n",
    "                    loss = criterion(outputs, labels)\n",
    "                    val_loss += loss.item()\n",
    "                    tepoch.set_postfix(loss=loss.item())\n",
    "                    pred_cls = []\n",
    "                    for i in range(len(outputs)):\n",
    "                        pred_cls.append(1 if outputs[i] > 0.5 else 0)\n",
    "                    y_true.extend(data['final_score'].numpy().reshape((batch_size, -1)).flatten().tolist())\n",
    "                    y_pred.extend(pred_cls)\n",
    "                \n",
    "        val_loss /= len(val_loader)\n",
    "        print('Epoch [{}/{}], Train Loss: {:.7f} ,Val Loss: {:.7f}'.format(epoch+1, num_epochs, train_loss, val_loss))\n",
    "        f1 = f1_score(y_true, y_pred,average='macro')\n",
    "        f1score_class_1 = f1_score(y_true, y_pred, pos_label=1)\n",
    "        f1score_class_0 = f1_score(y_true, y_pred, pos_label=0)\n",
    "        print('F1 score on the val: {:.7f}, F1 Class 1: {:.7f}, F1 Class 0: {:.7f}'.format(f1, f1score_class_1, f1score_class_0))\n",
    "\n",
    "        if f1 > best:\n",
    "            best = f1\n",
    "            print('-----New best found!-----')\n",
    "            checkpoint = {\n",
    "                'model_state_dict': model.state_dict(),\n",
    "                'optimizer_state_dict': optimizer.state_dict()\n",
    "            }\n",
    "\n",
    "            torch.save(checkpoint, 'checkpoint_supervied_{0}.pt'.format(model_name))"
   ]
  },
  {
   "cell_type": "code",
   "execution_count": null,
   "metadata": {},
   "outputs": [],
   "source": [
    "def SSLeval():\n",
    "    ft_model = FTModel()\n",
    "    \n",
    "    def init_weights(m):\n",
    "        if isinstance(m, nn.Linear):\n",
    "            init.kaiming_uniform_(m.weight)\n",
    "            if m.bias is not None:\n",
    "                init.constant_(m.bias, 0)\n",
    "\n",
    "    ft_model.apply(init_weights)\n",
    "\n",
    "    ft_model.to(device)\n",
    "    optimizer = torch.optim.Adam(ft_model.parameters(), lr=1e-5, weight_decay=1e-7) #1e-7 funciona bien \n",
    "    #criterion = W_BCEWithLogitsLoss(w_p=weight_positive, w_n=weight_negative) \n",
    "    weights = torch.tensor([weight_positive]).to(device)\n",
    "    criterion = nn.BCEWithLogitsLoss(pos_weight=weights)\n",
    "    num_epochs = 10\n",
    "    train_FTModel(ft_model, num_epochs, optimizer, criterion,s_train_loader, s_val_loader, model_name)"
   ]
  },
  {
   "cell_type": "code",
   "execution_count": null,
   "metadata": {},
   "outputs": [
    {
     "name": "stderr",
     "output_type": "stream",
     "text": [
      "Epoch 1/10: 100%|██████████| 396/396 [03:44<00:00,  1.76batch/s, loss=1.53]   \n",
      "Epoch 1/10: 100%|██████████| 85/85 [00:14<00:00,  5.88batch/s, loss=0.295] \n"
     ]
    },
    {
     "name": "stdout",
     "output_type": "stream",
     "text": [
      "Epoch [1/10], Train Loss: 0.7622022 ,Val Loss: 0.4360906\n",
      "F1 score on the val: 0.6518207, F1 Class 1: 0.4761905, F1 Class 0: 0.8274510\n",
      "-----New best found!-----\n"
     ]
    },
    {
     "name": "stderr",
     "output_type": "stream",
     "text": [
      "Epoch 2/10: 100%|██████████| 396/396 [03:46<00:00,  1.75batch/s, loss=0.505] \n",
      "Epoch 2/10: 100%|██████████| 85/85 [00:15<00:00,  5.60batch/s, loss=0.0862]\n"
     ]
    },
    {
     "name": "stdout",
     "output_type": "stream",
     "text": [
      "Epoch [2/10], Train Loss: 0.4607540 ,Val Loss: 0.3799159\n",
      "F1 score on the val: 0.6308467, F1 Class 1: 0.4217687, F1 Class 0: 0.8399247\n"
     ]
    },
    {
     "name": "stderr",
     "output_type": "stream",
     "text": [
      "Epoch 3/10: 100%|██████████| 396/396 [03:48<00:00,  1.73batch/s, loss=0.32]  \n",
      "Epoch 3/10: 100%|██████████| 85/85 [00:15<00:00,  5.57batch/s, loss=0.013]  \n"
     ]
    },
    {
     "name": "stdout",
     "output_type": "stream",
     "text": [
      "Epoch [3/10], Train Loss: 0.3512368 ,Val Loss: 0.4115641\n",
      "F1 score on the val: 0.6781646, F1 Class 1: 0.5063291, F1 Class 0: 0.8500000\n",
      "-----New best found!-----\n"
     ]
    },
    {
     "name": "stderr",
     "output_type": "stream",
     "text": [
      "Epoch 4/10: 100%|██████████| 396/396 [03:48<00:00,  1.73batch/s, loss=0.373]  \n",
      "Epoch 4/10: 100%|██████████| 85/85 [00:15<00:00,  5.66batch/s, loss=0.103] \n"
     ]
    },
    {
     "name": "stdout",
     "output_type": "stream",
     "text": [
      "Epoch [4/10], Train Loss: 0.2849281 ,Val Loss: 0.4463144\n",
      "F1 score on the val: 0.7044326, F1 Class 1: 0.5562130, F1 Class 0: 0.8526523\n",
      "-----New best found!-----\n"
     ]
    },
    {
     "name": "stderr",
     "output_type": "stream",
     "text": [
      "Epoch 5/10: 100%|██████████| 396/396 [03:48<00:00,  1.73batch/s, loss=0.00238]\n",
      "Epoch 5/10: 100%|██████████| 85/85 [00:15<00:00,  5.65batch/s, loss=0.00143]\n"
     ]
    },
    {
     "name": "stdout",
     "output_type": "stream",
     "text": [
      "Epoch [5/10], Train Loss: 0.2004368 ,Val Loss: 0.4486103\n",
      "F1 score on the val: 0.7674897, F1 Class 1: 0.6666667, F1 Class 0: 0.8683128\n",
      "-----New best found!-----\n"
     ]
    },
    {
     "name": "stderr",
     "output_type": "stream",
     "text": [
      "Epoch 6/10: 100%|██████████| 396/396 [03:46<00:00,  1.75batch/s, loss=0.00673] \n",
      "Epoch 6/10: 100%|██████████| 85/85 [00:15<00:00,  5.63batch/s, loss=0.0129]  \n"
     ]
    },
    {
     "name": "stdout",
     "output_type": "stream",
     "text": [
      "Epoch [6/10], Train Loss: 0.1122906 ,Val Loss: 0.6148764\n",
      "F1 score on the val: 0.7173692, F1 Class 1: 0.5764706, F1 Class 0: 0.8582677\n"
     ]
    },
    {
     "name": "stderr",
     "output_type": "stream",
     "text": [
      "Epoch 7/10: 100%|██████████| 396/396 [03:42<00:00,  1.78batch/s, loss=6.96e-5] \n",
      "Epoch 7/10: 100%|██████████| 85/85 [00:14<00:00,  5.80batch/s, loss=0.00022] \n"
     ]
    },
    {
     "name": "stdout",
     "output_type": "stream",
     "text": [
      "Epoch [7/10], Train Loss: 0.1013987 ,Val Loss: 0.6345371\n",
      "F1 score on the val: 0.7788510, F1 Class 1: 0.6868687, F1 Class 0: 0.8708333\n",
      "-----New best found!-----\n"
     ]
    },
    {
     "name": "stderr",
     "output_type": "stream",
     "text": [
      "Epoch 8/10: 100%|██████████| 396/396 [03:46<00:00,  1.75batch/s, loss=0.268]   \n",
      "Epoch 8/10: 100%|██████████| 85/85 [00:15<00:00,  5.60batch/s, loss=6.31e-5]\n"
     ]
    },
    {
     "name": "stdout",
     "output_type": "stream",
     "text": [
      "Epoch [8/10], Train Loss: 0.0494573 ,Val Loss: 0.6754275\n",
      "F1 score on the val: 0.7714804, F1 Class 1: 0.6798030, F1 Class 0: 0.8631579\n"
     ]
    },
    {
     "name": "stderr",
     "output_type": "stream",
     "text": [
      "Epoch 9/10: 100%|██████████| 396/396 [03:44<00:00,  1.76batch/s, loss=0.000115]\n",
      "Epoch 9/10: 100%|██████████| 85/85 [00:15<00:00,  5.66batch/s, loss=2.06e-6] \n"
     ]
    },
    {
     "name": "stdout",
     "output_type": "stream",
     "text": [
      "Epoch [9/10], Train Loss: 0.0519119 ,Val Loss: 0.5646961\n",
      "F1 score on the val: 0.7855432, F1 Class 1: 0.6995074, F1 Class 0: 0.8715789\n",
      "-----New best found!-----\n"
     ]
    },
    {
     "name": "stderr",
     "output_type": "stream",
     "text": [
      "Epoch 10/10: 100%|██████████| 396/396 [03:44<00:00,  1.77batch/s, loss=3.16e-5] \n",
      "Epoch 10/10: 100%|██████████| 85/85 [00:14<00:00,  5.81batch/s, loss=1.38e-5] "
     ]
    },
    {
     "name": "stdout",
     "output_type": "stream",
     "text": [
      "Epoch [10/10], Train Loss: 0.0344845 ,Val Loss: 0.9208322\n",
      "F1 score on the val: 0.7771597, F1 Class 1: 0.7022222, F1 Class 0: 0.8520971\n"
     ]
    },
    {
     "name": "stderr",
     "output_type": "stream",
     "text": [
      "\n"
     ]
    }
   ],
   "source": [
    "SSLeval()"
   ]
  },
  {
   "cell_type": "code",
   "execution_count": null,
   "metadata": {},
   "outputs": [],
   "source": [
    "s_test = VideoDataset('test', args, data)\n",
    "s_test_loader  = torch.utils.data.DataLoader(s_test,\n",
    "                                                      batch_size=4,\n",
    "                                                      num_workers=8,\n",
    "                                                      shuffle=False,\n",
    "                                                      pin_memory=True,\n",
    "                                                      worker_init_fn=worker_init_fn)"
   ]
  },
  {
   "cell_type": "code",
   "execution_count": null,
   "metadata": {},
   "outputs": [],
   "source": [
    "def eval_FTModel(model, test_loader):  \n",
    "    with torch.no_grad():\n",
    "        y_true = []\n",
    "        y_pred = []\n",
    "        \n",
    "        with tqdm(test_loader, unit=\"batch\") as tepoch:\n",
    "            for data in tepoch:\n",
    "                videos = data['video'].to(device)\n",
    "                videos.transpose_(1, 2)\n",
    "                batch_size, C, frames, H, W = videos.shape    \n",
    "                outputs = model(videos)\n",
    "                pred_cls = []\n",
    "                for i in range(len(outputs)):\n",
    "                    pred_cls.append(1 if outputs[i] > 0.5 else 0)\n",
    "                y_true.extend(data['final_score'].numpy().reshape((batch_size, -1)).flatten().tolist())\n",
    "                y_pred.extend(pred_cls)\n",
    "        \n",
    "        f1 = f1_score(y_true, y_pred,average='macro')\n",
    "        print('F1 score on the test: {:.7f}'.format(f1))"
   ]
  },
  {
   "cell_type": "code",
   "execution_count": null,
   "metadata": {},
   "outputs": [],
   "source": [
    "criterion = nn.BCELoss()\n",
    "ft_model = FTModel()\n",
    "path = \"./checkpoint_supervied_{0}.pt\".format(model_name)\n",
    "checkpoint = torch.load(path)\n",
    "ft_model.load_state_dict(checkpoint['model_state_dict'])\n",
    "ft_model.to(device)\n",
    "eval_FTModel(ft_model, s_test_loader)"
   ]
  }
 ],
 "metadata": {
  "kernelspec": {
   "display_name": "pytorch",
   "language": "python",
   "name": "python3"
  },
  "language_info": {
   "codemirror_mode": {
    "name": "ipython",
    "version": 3
   },
   "file_extension": ".py",
   "mimetype": "text/x-python",
   "name": "python",
   "nbconvert_exporter": "python",
   "pygments_lexer": "ipython3",
   "version": "3.9.12"
  },
  "orig_nbformat": 4
 },
 "nbformat": 4,
 "nbformat_minor": 2
}
